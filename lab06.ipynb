{
 "cells": [
  {
   "cell_type": "code",
   "execution_count": 6,
   "metadata": {},
   "outputs": [
    {
     "name": "stdout",
     "output_type": "stream",
     "text": [
      "string input\n",
      "\n",
      "The Vowels in This String \n",
      "d => 1\n",
      "e => 1\n",
      "b => 1\n",
      "a => 3\n",
      "m => 1\n",
      "l => 1\n",
      "\n",
      "Total Vowels in a String : 4\n",
      "\n",
      "Percentage: 50.0%\n"
     ]
    }
   ],
   "source": [
    "user_input = str(input(\"Enter the String: \"))\n",
    "\n",
    "print(\"string input\")\n",
    "\n",
    "# vowels = \"A,E,I,O,U\"\n",
    "vowels = [\"a\", \"e\", \"i\", \"o\"]\n",
    "\n",
    "\n",
    "def check_the_vowels(user, vowel):  # definig a function to store the value\n",
    "    count = 0\n",
    "    vowel_count = {}\n",
    "\n",
    "    for i in user.lower():  # to change the string in a same format like in lower case\n",
    "        if i in vowel_count:\n",
    "            vowel_count[i] += 1\n",
    "        else:\n",
    "            vowel_count[i] = 1\n",
    "        # Counting the Actual Value\n",
    "        for j in vowel:\n",
    "            if i == j:\n",
    "                count += 1\n",
    "    percentage = 100.0 * count / len(user) #len function to count number of character \n",
    "    return vowel_count, percentage, count\n",
    "\n",
    "\n",
    "Vowels_item, percentage, total_count = check_the_vowels(user_input, vowels)\n",
    "\n",
    "print()\n",
    "print(f\"The Vowels in This String \")\n",
    "for key, value in Vowels_item.items():\n",
    "    print(f\"{key} => {value}\")\n",
    "print()\n",
    "\n",
    "print(f\"Total Vowels in a String : {total_count}\")\n",
    "print()\n",
    "\n",
    "print(f\"Percentage: {percentage}%\")"
   ]
  }
 ],
 "metadata": {
  "kernelspec": {
   "display_name": "Python 3",
   "language": "python",
   "name": "python3"
  },
  "language_info": {
   "codemirror_mode": {
    "name": "ipython",
    "version": 3
   },
   "file_extension": ".py",
   "mimetype": "text/x-python",
   "name": "python",
   "nbconvert_exporter": "python",
   "pygments_lexer": "ipython3",
   "version": "3.11.5"
  },
  "orig_nbformat": 4
 },
 "nbformat": 4,
 "nbformat_minor": 2
}
