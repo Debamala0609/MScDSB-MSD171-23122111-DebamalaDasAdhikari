{
 "cells": [
  {
   "cell_type": "code",
   "execution_count": 1,
   "metadata": {},
   "outputs": [
    {
     "name": "stdout",
     "output_type": "stream",
     "text": [
      "True\n"
     ]
    }
   ],
   "source": [
    "print (\"t\" in \"trina\")"
   ]
  },
  {
   "cell_type": "markdown",
   "metadata": {},
   "source": [
    "sum of a three digit number "
   ]
  },
  {
   "cell_type": "code",
   "execution_count": 3,
   "metadata": {},
   "outputs": [
    {
     "name": "stdout",
     "output_type": "stream",
     "text": [
      "18\n"
     ]
    }
   ],
   "source": [
    "number = int(input('enter the 3 digit number'))\n",
    "a = number%10\n",
    "number = number//10\n",
    "b = number%10\n",
    "c=number%10 \n",
    "print (a+b+c)\n",
    "\n"
   ]
  },
  {
   "cell_type": "code",
   "execution_count": 4,
   "metadata": {},
   "outputs": [
    {
     "name": "stdout",
     "output_type": "stream",
     "text": [
      "not correct\n"
     ]
    }
   ],
   "source": [
    "email = input (\"enter the email\")\n",
    "password = input (\"enter the password\")\n",
    "if email == 'trina@gmail.com' and password =='1234':\n",
    "    print(\"welcome\")\n",
    "else :\n",
    "    print(\"not correct\")\n",
    "\n"
   ]
  },
  {
   "cell_type": "code",
   "execution_count": 1,
   "metadata": {},
   "outputs": [
    {
     "name": "stdout",
     "output_type": "stream",
     "text": [
      "incorrect password\n",
      "finally , welcome\n"
     ]
    }
   ],
   "source": [
    "email = input ('enter the mail id ')\n",
    "password = input ('enter the password')\n",
    "if email == 'trina@gmail.com' and password == '1234':\n",
    "    print ('welcome')\n",
    "elif email == 'trina@gmail.com' and password != '1234':\n",
    "    print('incorrect password')\n",
    "    password = input ('enter the password')\n",
    "    if password == '1234':\n",
    "        print('finally , welcome')\n",
    "    else:\n",
    "        print('fill again')\n",
    "else :\n",
    "    print('not correct')\n"
   ]
  },
  {
   "cell_type": "markdown",
   "metadata": {},
   "source": [
    " # minimum of three numbers :"
   ]
  },
  {
   "cell_type": "code",
   "execution_count": 5,
   "metadata": {},
   "outputs": [
    {
     "name": "stdout",
     "output_type": "stream",
     "text": [
      "c is minimum\n"
     ]
    }
   ],
   "source": [
    "a = int(input ( 'enter the first number : '))\n",
    "b =int( input ( 'enter the second number : '))\n",
    "c = int(input ( 'enter the third number : '))\n",
    "if a<b and a<c :\n",
    "    print('a is minimum')\n",
    "elif b<c :\n",
    "    print ('b is minimum')\n",
    "else :\n",
    "    print('c is minimum')"
   ]
  },
  {
   "cell_type": "code",
   "execution_count": 1,
   "metadata": {},
   "outputs": [
    {
     "name": "stdout",
     "output_type": "stream",
     "text": [
      "apple\n",
      "banana\n",
      "cherry\n"
     ]
    }
   ],
   "source": [
    "fruits = [\"apple\",\"banana\",\"cherry\"]\n",
    "x,y,z = fruits\n",
    "print(x)\n",
    "print(y)\n",
    "print(z)"
   ]
  },
  {
   "cell_type": "code",
   "execution_count": 4,
   "metadata": {},
   "outputs": [
    {
     "name": "stdout",
     "output_type": "stream",
     "text": [
      "python is awesome\n"
     ]
    }
   ],
   "source": [
    "x = \"awesome\"\n",
    "def myfunc():\n",
    "    print(\"python is \"+ x)\n",
    "myfunc()"
   ]
  },
  {
   "cell_type": "code",
   "execution_count": 5,
   "metadata": {},
   "outputs": [
    {
     "name": "stdout",
     "output_type": "stream",
     "text": [
      "Python is fantastic\n",
      "Python is awesome\n"
     ]
    }
   ],
   "source": [
    "x = \"awesome\"\n",
    "\n",
    "def myfunc():\n",
    "  x = \"fantastic\"\n",
    "  print(\"Python is \" + x)\n",
    "\n",
    "myfunc()\n",
    "\n",
    "print(\"Python is \" + x)"
   ]
  },
  {
   "cell_type": "code",
   "execution_count": 3,
   "metadata": {},
   "outputs": [
    {
     "name": "stdout",
     "output_type": "stream",
     "text": [
      "I\n",
      "IND\n"
     ]
    }
   ],
   "source": [
    "country = \"INDIA\"\n",
    "print(country[3])\n",
    "print(country[:3])"
   ]
  },
  {
   "cell_type": "code",
   "execution_count": 14,
   "metadata": {},
   "outputs": [
    {
     "name": "stdout",
     "output_type": "stream",
     "text": [
      " \n",
      "p\n",
      "g\n",
      "e\n",
      "pytho\n",
      "python \n",
      "2\n"
     ]
    }
   ],
   "source": [
    "str1 = \"python programming\"\n",
    "str2= \"simplilearn\"\n",
    "print(str1[6])\n",
    "print(str1[7])\n",
    "print(str1[-1])\n",
    "print(str2[-4])\n",
    "print(str1[0:5])\n",
    "print(str1[:7])\n",
    "print(str2.find(\"m\"))"
   ]
  },
  {
   "cell_type": "code",
   "execution_count": 1,
   "metadata": {},
   "outputs": [
    {
     "data": {
      "text/plain": [
       "str"
      ]
     },
     "execution_count": 1,
     "metadata": {},
     "output_type": "execute_result"
    }
   ],
   "source": [
    "s=\"messi is from Argentina\"\n",
    "type(s)"
   ]
  },
  {
   "cell_type": "code",
   "execution_count": 2,
   "metadata": {},
   "outputs": [
    {
     "data": {
      "text/plain": [
       "['m',\n",
       " 'e',\n",
       " 's',\n",
       " 's',\n",
       " 'i',\n",
       " ' ',\n",
       " 'i',\n",
       " 's',\n",
       " ' ',\n",
       " 'f',\n",
       " 'r',\n",
       " 'o',\n",
       " 'm',\n",
       " ' ',\n",
       " 'A',\n",
       " 'r',\n",
       " 'g',\n",
       " 'e',\n",
       " 'n',\n",
       " 't',\n",
       " 'i',\n",
       " 'n',\n",
       " 'a']"
      ]
     },
     "execution_count": 2,
     "metadata": {},
     "output_type": "execute_result"
    }
   ],
   "source": [
    "l= list(s)\n",
    "l"
   ]
  },
  {
   "cell_type": "code",
   "execution_count": 3,
   "metadata": {},
   "outputs": [
    {
     "data": {
      "text/plain": [
       "list"
      ]
     },
     "execution_count": 3,
     "metadata": {},
     "output_type": "execute_result"
    }
   ],
   "source": [
    "type(l)"
   ]
  },
  {
   "cell_type": "code",
   "execution_count": 5,
   "metadata": {},
   "outputs": [
    {
     "data": {
      "text/plain": [
       "list"
      ]
     },
     "execution_count": 5,
     "metadata": {},
     "output_type": "execute_result"
    }
   ],
   "source": [
    "s1= [1,5,7,9,0,45,78,78,3,4]\n",
    "type(s)"
   ]
  },
  {
   "cell_type": "code",
   "execution_count": 6,
   "metadata": {},
   "outputs": [
    {
     "data": {
      "text/plain": [
       "{0, 1, 3, 4, 5, 7, 9, 45, 78}"
      ]
     },
     "execution_count": 6,
     "metadata": {},
     "output_type": "execute_result"
    }
   ],
   "source": [
    "s=set(s1)\n",
    "s"
   ]
  },
  {
   "cell_type": "code",
   "execution_count": 27,
   "metadata": {},
   "outputs": [],
   "source": [
    "f1 = open('C:\\\\Users\\debam\\\\Desktop\\\\Python\\\\data.txt','w')"
   ]
  },
  {
   "cell_type": "code",
   "execution_count": 28,
   "metadata": {},
   "outputs": [],
   "source": [
    "f1.write('this is Trina\\n')\n",
    "f1.write('start learning python\\n')\n",
    "f1.close()"
   ]
  },
  {
   "cell_type": "code",
   "execution_count": 2,
   "metadata": {},
   "outputs": [
    {
     "name": "stdout",
     "output_type": "stream",
     "text": [
      "hi everyone \n",
      "today we will learn about\n",
      "my self\n"
     ]
    }
   ],
   "source": [
    "str1='''hi everyone \n",
    "today we will learn about\n",
    "my self'''\n",
    "print(str1)"
   ]
  },
  {
   "cell_type": "code",
   "execution_count": 3,
   "metadata": {},
   "outputs": [
    {
     "name": "stdout",
     "output_type": "stream",
     "text": [
      "alamabedanirt\n"
     ]
    }
   ],
   "source": [
    "str2='trinadebamala'\n",
    "print(str2[::-1])"
   ]
  },
  {
   "cell_type": "markdown",
   "metadata": {},
   "source": [
    "list methods"
   ]
  },
  {
   "cell_type": "code",
   "execution_count": 4,
   "metadata": {},
   "outputs": [
    {
     "name": "stdout",
     "output_type": "stream",
     "text": [
      "['apple', 'orange', 'banana', 'kiwi']\n"
     ]
    }
   ],
   "source": [
    "list1 = ['apple','orange','banana','kiwi']\n",
    "print(list1)"
   ]
  },
  {
   "cell_type": "code",
   "execution_count": 5,
   "metadata": {},
   "outputs": [
    {
     "name": "stdout",
     "output_type": "stream",
     "text": [
      "['apple', [8, 4, 6], 'orange']\n"
     ]
    }
   ],
   "source": [
    "list2=['apple',[8,4,6],'orange']\n",
    "print(list2)"
   ]
  },
  {
   "cell_type": "code",
   "execution_count": 6,
   "metadata": {},
   "outputs": [
    {
     "name": "stdout",
     "output_type": "stream",
     "text": [
      "['orange', 'banana']\n"
     ]
    }
   ],
   "source": [
    "print(list1[1:3])"
   ]
  },
  {
   "cell_type": "code",
   "execution_count": 17,
   "metadata": {},
   "outputs": [
    {
     "name": "stdout",
     "output_type": "stream",
     "text": [
      "['apple', 'orange', 'banana', 'guava', 'guava']\n"
     ]
    }
   ],
   "source": [
    "list1.append('guava')\n",
    "print(list1)"
   ]
  },
  {
   "cell_type": "code",
   "execution_count": 16,
   "metadata": {},
   "outputs": [
    {
     "name": "stdout",
     "output_type": "stream",
     "text": [
      "['apple', 'orange', 'banana', 'guava']\n"
     ]
    }
   ],
   "source": [
    "del list1[4]\n",
    "print(list1)"
   ]
  },
  {
   "cell_type": "code",
   "execution_count": 19,
   "metadata": {},
   "outputs": [
    {
     "name": "stdout",
     "output_type": "stream",
     "text": [
      "['orange', 'banana', 'guava', 'guava']\n"
     ]
    }
   ],
   "source": [
    "list1.remove('apple')\n",
    "print(list1)"
   ]
  },
  {
   "cell_type": "code",
   "execution_count": 20,
   "metadata": {},
   "outputs": [
    {
     "name": "stdout",
     "output_type": "stream",
     "text": [
      "['orange', 'guava', 'guava']\n"
     ]
    }
   ],
   "source": [
    "list1.pop(1)\n",
    "print(list1)"
   ]
  },
  {
   "cell_type": "code",
   "execution_count": 21,
   "metadata": {},
   "outputs": [
    {
     "name": "stdout",
     "output_type": "stream",
     "text": [
      "[]\n"
     ]
    }
   ],
   "source": [
    "list2.clear()\n",
    "print(list2)"
   ]
  },
  {
   "cell_type": "code",
   "execution_count": 22,
   "metadata": {},
   "outputs": [
    {
     "name": "stdout",
     "output_type": "stream",
     "text": [
      "['guava', 'guava', 'orange']\n"
     ]
    }
   ],
   "source": [
    "list1.reverse()\n",
    "print(list1)"
   ]
  },
  {
   "cell_type": "code",
   "execution_count": 24,
   "metadata": {},
   "outputs": [
    {
     "name": "stdout",
     "output_type": "stream",
     "text": [
      "0\n"
     ]
    }
   ],
   "source": [
    "print(list1.index('guava'))"
   ]
  },
  {
   "cell_type": "code",
   "execution_count": 26,
   "metadata": {},
   "outputs": [
    {
     "name": "stdout",
     "output_type": "stream",
     "text": [
      "1\n"
     ]
    }
   ],
   "source": [
    "print(list1.count('orange'))"
   ]
  },
  {
   "cell_type": "markdown",
   "metadata": {},
   "source": [
    "tuples in python"
   ]
  },
  {
   "cell_type": "code",
   "execution_count": 27,
   "metadata": {},
   "outputs": [
    {
     "name": "stdout",
     "output_type": "stream",
     "text": [
      "<class 'tuple'>\n"
     ]
    }
   ],
   "source": [
    "tup1=('apple','orange','banana','kiwi')\n",
    "print(type(tup1))"
   ]
  },
  {
   "cell_type": "code",
   "execution_count": 28,
   "metadata": {},
   "outputs": [
    {
     "name": "stdout",
     "output_type": "stream",
     "text": [
      "<class 'str'>\n"
     ]
    }
   ],
   "source": [
    "tup2=('apple')\n",
    "print(type(tup2))"
   ]
  },
  {
   "cell_type": "code",
   "execution_count": 29,
   "metadata": {},
   "outputs": [
    {
     "name": "stdout",
     "output_type": "stream",
     "text": [
      "<class 'tuple'>\n"
     ]
    }
   ],
   "source": [
    "tup2=('apple',)\n",
    "print(type(tup2))"
   ]
  },
  {
   "cell_type": "code",
   "execution_count": 30,
   "metadata": {},
   "outputs": [
    {
     "name": "stdout",
     "output_type": "stream",
     "text": [
      "(1, 2, 3, 4, 5, 6)\n"
     ]
    }
   ],
   "source": [
    "print((1,2,3)+(4,5,6))"
   ]
  },
  {
   "cell_type": "code",
   "execution_count": 31,
   "metadata": {},
   "outputs": [
    {
     "name": "stdout",
     "output_type": "stream",
     "text": [
      "('repeat', 'repeat', 'repeat')\n"
     ]
    }
   ],
   "source": [
    "print((\"repeat\",)*3)"
   ]
  },
  {
   "cell_type": "code",
   "execution_count": 32,
   "metadata": {},
   "outputs": [
    {
     "name": "stdout",
     "output_type": "stream",
     "text": [
      "('apple', 'orange', 'banana', 'kiwi', 'guava')\n"
     ]
    }
   ],
   "source": [
    "y=list(tup1)\n",
    "y.append('guava')\n",
    "tup1=tuple(y)\n",
    "print(tup1)"
   ]
  },
  {
   "cell_type": "code",
   "execution_count": 34,
   "metadata": {},
   "outputs": [
    {
     "name": "stdout",
     "output_type": "stream",
     "text": [
      "('apple', 'orange', 'banana', 'kiwi', 'guava', 'cherry')\n"
     ]
    }
   ],
   "source": [
    "tup3= ('cherry',)\n",
    "tup1+=tup3\n",
    "print(tup1)"
   ]
  },
  {
   "cell_type": "code",
   "execution_count": 35,
   "metadata": {},
   "outputs": [
    {
     "name": "stdout",
     "output_type": "stream",
     "text": [
      "apple\n",
      "orange\n",
      "banana\n",
      "kiwi\n",
      "guava\n",
      "cherry\n"
     ]
    }
   ],
   "source": [
    "for x in tup1:\n",
    "    print(x)"
   ]
  },
  {
   "cell_type": "code",
   "execution_count": null,
   "metadata": {},
   "outputs": [],
   "source": [
    "#adding and deleting details\n",
    "class Student:   \n",
    "    def _init_(self,roll_no,name,age):\n",
    "        self.roll_no = roll_no\n",
    "        self.name = name\n",
    "        self.age = age\n",
    "    def _str_(self):\n",
    "            return f\"Roll Number:{self.roll_no},Name : {self.name}, Age: {self.age}\"\n",
    "students = []\n",
    "def add_student():\n",
    "        roll_no = input(\"Enter the roll no of the student:\")\n",
    "        name = input(\"Enter the name of the student: \")\n",
    "        age = input(\"Enter the age of the student:\")\n",
    "        student = Student (roll_no,name,age)\n",
    "        students.append(student)\n",
    "        print(\"Student added successfully!\")\n",
    "def delete_student(roll_no):\n",
    "    for student in students:\n",
    "        if student.roll_no==roll_no:\n",
    "            students.remove(student)\n",
    "            print(f\"student with roll number{roll_no} deleted succesfully\")\n",
    "            return\n",
    "    print(f\"student with Roll Number {roll_no} not found\")\n",
    "    \n",
    "while True:\n",
    "    print(\"/n Student Management System\")\n",
    "    print(\"1. Add Student\")\n",
    "    print(\"2. Delete Student\")\n",
    "    print(\"3. List students\")\n",
    "    print(\"4.  Quit\")\n",
    "    choice = input(\"Enter your choice:\")\n",
    "    if choice ==\"1\":\n",
    "        add_student()\n",
    "    elif choice == \"2\":\n",
    "        roll_no = input(\"Enter the roll number of the student to delete:\")\n",
    "        delete_student(roll_no)\n",
    "    elif choice == \"3\":\n",
    "        if students:\n",
    "            print(\"/nList of Students:\")\n",
    "            for student in students:\n",
    "                print(student)\n",
    "        else:\n",
    "            print(\"No students in the list\")\n",
    "    elif choice == \"4\":\n",
    "        break\n",
    "    else:\n",
    "        print(\"Invalid choice\")\n",
    "        "
   ]
  },
  {
   "cell_type": "code",
   "execution_count": 6,
   "metadata": {},
   "outputs": [
    {
     "name": "stdout",
     "output_type": "stream",
     "text": [
      "<0,0>\n"
     ]
    }
   ],
   "source": [
    "class Point():\n",
    "    def __init__(self,x,y):\n",
    "        self.x_cod = x\n",
    "        self.y_cod = y\n",
    "    def __str__(self) :\n",
    "       return '<{},{}>'.format(self.x_cod,self.y_cod)\n",
    "p1= Point(0,0)\n",
    "print(p1)\n"
   ]
  },
  {
   "cell_type": "code",
   "execution_count": 1,
   "metadata": {},
   "outputs": [
    {
     "name": "stdout",
     "output_type": "stream",
     "text": [
      "\n",
      "Student Management System\n",
      "1. Add Student\n",
      "2. Add Marks\n",
      "3. Display Student Details\n",
      "4. Exit\n",
      "Student added successfully!\n",
      "\n",
      "Student Management System\n",
      "1. Add Student\n",
      "2. Add Marks\n",
      "3. Display Student Details\n",
      "4. Exit\n",
      "Marks added successfully!\n",
      "\n",
      "Student Management System\n",
      "1. Add Student\n",
      "2. Add Marks\n",
      "3. Display Student Details\n",
      "4. Exit\n",
      "Exiting the program. Goodbye!\n"
     ]
    }
   ],
   "source": [
    "class Student:\n",
    "    def __init__(self, name, roll_number):\n",
    "        self.name = name\n",
    "        self.roll_number = roll_number\n",
    "        self.marks = {}\n",
    "\n",
    "    def add_marks(self, subject, score):\n",
    "        self.marks[subject] = score\n",
    "\n",
    "    def calculate_grade(self):\n",
    "        average_score = sum(self.marks.values()) / len(self.marks)\n",
    "        if average_score >= 90:\n",
    "            return 'A'\n",
    "        elif average_score >= 80:\n",
    "            return 'B'\n",
    "        elif average_score >= 70:\n",
    "            return 'C'\n",
    "        elif average_score >= 60:\n",
    "            return 'D'\n",
    "        else:\n",
    "            return 'F'\n",
    "\n",
    "    def display_details(self):\n",
    "        print(f\"Name: {self.name}\")\n",
    "        print(f\"Roll Number: {self.roll_number}\")\n",
    "        print(\"Marks:\")\n",
    "        for subject, score in self.marks.items():\n",
    "            print(f\"{subject}: {score}\")\n",
    "        print(f\"Grade: {self.calculate_grade()}\")\n",
    "\n",
    "\n",
    "# Menu-driven program\n",
    "students = {}\n",
    "\n",
    "while True:\n",
    "    print(\"\\nStudent Management System\")\n",
    "    print(\"1. Add Student\")\n",
    "    print(\"2. Add Marks\")\n",
    "    print(\"3. Display Student Details\")\n",
    "    print(\"4. Exit\")\n",
    "\n",
    "    choice = input(\"Enter your choice: \")\n",
    "\n",
    "    if choice == '1':\n",
    "        name = input(\"Enter student's name: \")\n",
    "        roll_number = input(\"Enter student's roll number: \")\n",
    "        students[roll_number] = Student(name, roll_number)\n",
    "        print(\"Student added successfully!\")\n",
    "\n",
    "    elif choice == '2':\n",
    "        roll_number = input(\"Enter student's roll number: \")\n",
    "        if roll_number in students:\n",
    "            subject = input(\"Enter subject name: \")\n",
    "            score = float(input(\"Enter marks for the subject: \"))\n",
    "            students[roll_number].add_marks(subject, score)\n",
    "            print(\"Marks added successfully!\")\n",
    "        else:\n",
    "            print(\"Student not found!\")\n",
    "\n",
    "    elif choice == '3':\n",
    "        roll_number = input(\"Enter student's roll number: \")\n",
    "        if roll_number in students:\n",
    "            students[roll_number].display_details()\n",
    "        else:\n",
    "            print(\"Student not found!\")\n",
    "\n",
    "    elif choice == '4':\n",
    "        print(\"Exiting the program. Goodbye!\")\n",
    "        break\n",
    "\n",
    "    else:\n",
    "        print(\"Invalid choice. Please select a valid option.\")\n"
   ]
  },
  {
   "cell_type": "code",
   "execution_count": 1,
   "metadata": {},
   "outputs": [
    {
     "name": "stdout",
     "output_type": "stream",
     "text": [
      "dict_keys(['brand', 'model', 'year'])\n",
      "dict_keys(['brand', 'model', 'year', 'color'])\n"
     ]
    }
   ],
   "source": [
    "car = {\n",
    "\"brand\": \"Ford\",\n",
    "\"model\": \"Mustang\",\n",
    "\"year\": 1964\n",
    "}\n",
    "\n",
    "x = car.keys()\n",
    "\n",
    "print(x) #before the change\n",
    "\n",
    "car[\"color\"] = \"white\"\n",
    "\n",
    "print(x)"
   ]
  },
  {
   "cell_type": "code",
   "execution_count": 2,
   "metadata": {},
   "outputs": [
    {
     "name": "stdout",
     "output_type": "stream",
     "text": [
      "{'brand': 'Ford', 'model': 'Mustang', 'year': 2020}\n"
     ]
    }
   ],
   "source": [
    "thisdict = {\n",
    "  \"brand\": \"Ford\",\n",
    "  \"model\": \"Mustang\",\n",
    "  \"year\": 1964\n",
    "}\n",
    "thisdict.update({\"year\": 2020})\n",
    "\n",
    "print(thisdict)"
   ]
  },
  {
   "cell_type": "code",
   "execution_count": 3,
   "metadata": {},
   "outputs": [
    {
     "name": "stdout",
     "output_type": "stream",
     "text": [
      "dict_keys(['brand', 'model', 'year'])\n",
      "dict_keys(['brand', 'model', 'year', 'color'])\n"
     ]
    }
   ],
   "source": [
    "car = {\n",
    "\"brand\": \"Ford\",\n",
    "\"model\": \"Mustang\",\n",
    "\"year\": 1964\n",
    "}\n",
    "\n",
    "x = car.keys()\n",
    "\n",
    "print(x) #before the change\n",
    "\n",
    "car[\"color\"] = \"white\"\n",
    "\n",
    "print(x) #after the change\n"
   ]
  },
  {
   "cell_type": "code",
   "execution_count": null,
   "metadata": {},
   "outputs": [],
   "source": []
  }
 ],
 "metadata": {
  "kernelspec": {
   "display_name": "Python 3",
   "language": "python",
   "name": "python3"
  },
  "language_info": {
   "codemirror_mode": {
    "name": "ipython",
    "version": 3
   },
   "file_extension": ".py",
   "mimetype": "text/x-python",
   "name": "python",
   "nbconvert_exporter": "python",
   "pygments_lexer": "ipython3",
   "version": "3.11.5"
  },
  "orig_nbformat": 4
 },
 "nbformat": 4,
 "nbformat_minor": 2
}
