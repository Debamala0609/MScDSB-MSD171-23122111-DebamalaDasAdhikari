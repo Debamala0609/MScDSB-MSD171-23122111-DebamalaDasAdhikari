{
 "cells": [
  {
   "cell_type": "code",
   "execution_count": 2,
   "metadata": {},
   "outputs": [
    {
     "name": "stdout",
     "output_type": "stream",
     "text": [
      "22twotwo\n"
     ]
    }
   ],
   "source": [
    "nu_m = [\"zero\",\"one\",\"two\",\"three\",\"four\",\"five\",\"six\",\"seven\",\"eight\",\"nine\"]\n",
    "Alice = int(input(\"enter the number :\"))\n",
    "def to_help_alice(nu_m,Alice):\n",
    "    str_a = str(Alice)\n",
    "    now_value= \"\"\n",
    "    for i in str_a:\n",
    "        digit = int(i)\n",
    "        now_value += nu_m[digit]\n",
    "    return now_value \n",
    "result = to_help_alice(nu_m,Alice)\n",
    "print(f\"{Alice}{result}\")\n",
    "\n",
    "\n"
   ]
  }
 ],
 "metadata": {
  "kernelspec": {
   "display_name": "Python 3",
   "language": "python",
   "name": "python3"
  },
  "language_info": {
   "codemirror_mode": {
    "name": "ipython",
    "version": 3
   },
   "file_extension": ".py",
   "mimetype": "text/x-python",
   "name": "python",
   "nbconvert_exporter": "python",
   "pygments_lexer": "ipython3",
   "version": "3.11.5"
  },
  "orig_nbformat": 4
 },
 "nbformat": 4,
 "nbformat_minor": 2
}
