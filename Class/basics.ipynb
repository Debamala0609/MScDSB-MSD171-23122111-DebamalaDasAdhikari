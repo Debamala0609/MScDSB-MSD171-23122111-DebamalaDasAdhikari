{
 "cells": [
  {
   "cell_type": "code",
   "execution_count": 1,
   "metadata": {},
   "outputs": [
    {
     "name": "stdout",
     "output_type": "stream",
     "text": [
      "hello\n"
     ]
    }
   ],
   "source": [
    "print(\"hello\")"
   ]
  },
  {
   "cell_type": "code",
   "execution_count": 2,
   "metadata": {},
   "outputs": [
    {
     "name": "stdout",
     "output_type": "stream",
     "text": [
      "d\n"
     ]
    }
   ],
   "source": [
    "print('d')\n"
   ]
  },
  {
   "cell_type": "code",
   "execution_count": 18,
   "metadata": {},
   "outputs": [
    {
     "data": {
      "text/plain": [
       "str"
      ]
     },
     "execution_count": 18,
     "metadata": {},
     "output_type": "execute_result"
    }
   ],
   "source": [
    "name = ('trina das adhikari')\n",
    "type (name) # this is cheking string "
   ]
  },
  {
   "cell_type": "code",
   "execution_count": 8,
   "metadata": {},
   "outputs": [
    {
     "data": {
      "text/plain": [
       "'i'"
      ]
     },
     "execution_count": 8,
     "metadata": {},
     "output_type": "execute_result"
    }
   ],
   "source": [
    "msg = \"this is a message\"\n",
    "msg[5]"
   ]
  },
  {
   "cell_type": "code",
   "execution_count": 19,
   "metadata": {},
   "outputs": [
    {
     "name": "stdout",
     "output_type": "stream",
     "text": [
      "17\n",
      "8\n"
     ]
    },
    {
     "data": {
      "text/plain": [
       "18"
      ]
     },
     "execution_count": 19,
     "metadata": {},
     "output_type": "execute_result"
    }
   ],
   "source": [
    "print(len(msg))\n",
    "print(len(\"debamala\"))\n",
    "len(name)"
   ]
  },
  {
   "cell_type": "code",
   "execution_count": 13,
   "metadata": {},
   "outputs": [
    {
     "name": "stdout",
     "output_type": "stream",
     "text": [
      "t\n",
      "h\n",
      "i\n",
      "s\n",
      " \n",
      "i\n",
      "s\n",
      " \n",
      "a\n",
      " \n",
      "m\n",
      "e\n",
      "s\n",
      "s\n",
      "a\n",
      "g\n",
      "e\n"
     ]
    }
   ],
   "source": [
    "for i in msg :\n",
    "    print(i)"
   ]
  },
  {
   "cell_type": "code",
   "execution_count": 16,
   "metadata": {},
   "outputs": [
    {
     "data": {
      "text/plain": [
       "'THIS IS A MESSAGE'"
      ]
     },
     "execution_count": 16,
     "metadata": {},
     "output_type": "execute_result"
    }
   ],
   "source": [
    "msg.upper()"
   ]
  },
  {
   "cell_type": "code",
   "execution_count": 20,
   "metadata": {},
   "outputs": [
    {
     "name": "stdout",
     "output_type": "stream",
     "text": [
      "18\n",
      "18\n"
     ]
    }
   ],
   "source": [
    "print(len(name))\n",
    "print(len(name.strip()))   # strip removes first and last spaces"
   ]
  },
  {
   "cell_type": "code",
   "execution_count": 22,
   "metadata": {},
   "outputs": [
    {
     "name": "stdout",
     "output_type": "stream",
     "text": [
      "['2', '3', '5', '6', '7', '2', '8']\n"
     ]
    }
   ],
   "source": [
    "numbers =\"2,3,5,6,7,2,8\"\n",
    "print (numbers.split(','))\n"
   ]
  },
  {
   "cell_type": "markdown",
   "metadata": {},
   "source": []
  },
  {
   "cell_type": "code",
   "execution_count": 37,
   "metadata": {},
   "outputs": [
    {
     "name": "stdout",
     "output_type": "stream",
     "text": [
      "27\n"
     ]
    }
   ],
   "source": [
    "numbers=\"2,3,5,7,2,8\"\n",
    "nos= numbers.split(',')\n",
    "sum = 0 \n",
    "for item in nos:\n",
    "    #print(item)\n",
    "    sum = sum + int(item)\n",
    "    #print(item,type(item),temp,int(temp))\n",
    "print(sum)\n"
   ]
  },
  {
   "cell_type": "code",
   "execution_count": 45,
   "metadata": {},
   "outputs": [
    {
     "name": "stdout",
     "output_type": "stream",
     "text": [
      "your username:trina  and the password enterd is: 123\n"
     ]
    }
   ],
   "source": [
    "name = input(\"enter user name\")\n",
    "password = input(\"enter the password\")\n",
    "print ( \"your username:{} and the password enterd is:{}\".format(name,password)) "
   ]
  },
  {
   "cell_type": "code",
   "execution_count": 46,
   "metadata": {},
   "outputs": [
    {
     "name": "stdout",
     "output_type": "stream",
     "text": [
      "10\n",
      "11\n",
      "12\n",
      "13\n",
      "14\n",
      "15\n",
      "16\n",
      "17\n",
      "18\n",
      "19\n"
     ]
    }
   ],
   "source": [
    "for i in range (10,20,1):\n",
    "    print(i)"
   ]
  },
  {
   "cell_type": "code",
   "execution_count": 59,
   "metadata": {},
   "outputs": [
    {
     "name": "stdout",
     "output_type": "stream",
     "text": [
      "30\n"
     ]
    }
   ],
   "source": [
    "#find the sum of n multiples of 2 where n is your input \n",
    "n = 10 \n",
    "sum = 0 \n",
    "for i in range (2,10+1,2):\n",
    "    sum = sum + i\n",
    "print(sum)\n"
   ]
  },
  {
   "cell_type": "code",
   "execution_count": 1,
   "metadata": {},
   "outputs": [
    {
     "name": "stdout",
     "output_type": "stream",
     "text": [
      "['one', 'two', 'three', 'four']\n"
     ]
    }
   ],
   "source": [
    "listex = [\"one\",\"two\",\"three\",\"four\"]\n",
    "print (listex)"
   ]
  },
  {
   "cell_type": "code",
   "execution_count": 2,
   "metadata": {},
   "outputs": [
    {
     "name": "stdout",
     "output_type": "stream",
     "text": [
      "four\n"
     ]
    }
   ],
   "source": [
    "print(listex[3])"
   ]
  },
  {
   "cell_type": "code",
   "execution_count": 6,
   "metadata": {},
   "outputs": [
    {
     "name": "stdout",
     "output_type": "stream",
     "text": [
      "['one', 'two', 'three', 'four', 'five', 'five', 'five', 'five']\n"
     ]
    }
   ],
   "source": [
    "listex.append(\"five\")\n",
    "print(listex)"
   ]
  },
  {
   "cell_type": "code",
   "execution_count": 7,
   "metadata": {},
   "outputs": [
    {
     "data": {
      "text/plain": [
       "['one', 'two', 'three', 'four', 'five', 'five', 'five', 'five']"
      ]
     },
     "execution_count": 7,
     "metadata": {},
     "output_type": "execute_result"
    }
   ],
   "source": [
    "listex"
   ]
  },
  {
   "cell_type": "code",
   "execution_count": 8,
   "metadata": {},
   "outputs": [
    {
     "data": {
      "text/plain": [
       "8"
      ]
     },
     "execution_count": 8,
     "metadata": {},
     "output_type": "execute_result"
    }
   ],
   "source": [
    "len(listex)"
   ]
  },
  {
   "cell_type": "code",
   "execution_count": 9,
   "metadata": {},
   "outputs": [
    {
     "data": {
      "text/plain": [
       "[0, 3, 3, 5, 6]"
      ]
     },
     "execution_count": 9,
     "metadata": {},
     "output_type": "execute_result"
    }
   ],
   "source": [
    "#sort()/reverse()\n",
    "a=[3,5,6,3,0]\n",
    "a.sort()\n",
    "a"
   ]
  },
  {
   "cell_type": "code",
   "execution_count": 15,
   "metadata": {},
   "outputs": [],
   "source": [
    "def fname():\n",
    "    print (\"I am your first function\")\n",
    "    retVal = \"success\"\n",
    "    return retVal\n"
   ]
  },
  {
   "cell_type": "code",
   "execution_count": 16,
   "metadata": {},
   "outputs": [
    {
     "name": "stdout",
     "output_type": "stream",
     "text": [
      "I am your first function\n"
     ]
    },
    {
     "data": {
      "text/plain": [
       "'success'"
      ]
     },
     "execution_count": 16,
     "metadata": {},
     "output_type": "execute_result"
    }
   ],
   "source": [
    "status = fname()\n",
    "status"
   ]
  },
  {
   "cell_type": "code",
   "execution_count": 12,
   "metadata": {},
   "outputs": [
    {
     "name": "stdout",
     "output_type": "stream",
     "text": [
      "5\n",
      "10\n"
     ]
    }
   ],
   "source": [
    "lst = [5,8,2,10]\n",
    "for item in range (0,len(lst),1):\n",
    "    print( lst[item])\n",
    "\n",
    "    \n"
   ]
  },
  {
   "cell_type": "code",
   "execution_count": 7,
   "metadata": {},
   "outputs": [
    {
     "name": "stdout",
     "output_type": "stream",
     "text": [
      "1\n",
      "2\n",
      "3\n",
      "4\n"
     ]
    }
   ],
   "source": [
    "lst= [1,2,3,4]\n",
    "for item in lst:\n",
    "    print(item)\n"
   ]
  },
  {
   "cell_type": "markdown",
   "metadata": {},
   "source": [
    "define a function that takes a list of numbers as input and return the sum of numbers as innput "
   ]
  },
  {
   "cell_type": "code",
   "execution_count": 24,
   "metadata": {},
   "outputs": [
    {
     "name": "stdout",
     "output_type": "stream",
     "text": [
      "25\n"
     ]
    }
   ],
   "source": [
    "def sumlist (lst):\n",
    "    sum = 0 \n",
    "    for item in lst :\n",
    "      sum = sum + item\n",
    "    return sum \n",
    "print(sumlist(lst))\n",
    "\n",
    "\n"
   ]
  },
  {
   "cell_type": "code",
   "execution_count": 26,
   "metadata": {},
   "outputs": [
    {
     "name": "stdout",
     "output_type": "stream",
     "text": [
      "25\n"
     ]
    }
   ],
   "source": [
    "sum = 0 \n",
    "for item in lst:\n",
    "    sum = sum + item \n",
    "print (sum )"
   ]
  },
  {
   "cell_type": "code",
   "execution_count": 6,
   "metadata": {},
   "outputs": [
    {
     "name": "stdout",
     "output_type": "stream",
     "text": [
      "sum: 16\n"
     ]
    }
   ],
   "source": [
    "def sumlistfn():\n",
    "    sum = 0 \n",
    "    #logic to sum the numbers in the list \n",
    "    for item in array :\n",
    "        sum+= int (item)\n",
    "    return sum \n",
    "userInput = input(\"enter the list of numbers separated via comma\")\n",
    "    #2,3,4,5,6,7\n",
    "array =userInput.strip().split(',')\n",
    "sum = sumlistfn()\n",
    "print(\"sum:\", sum)\n",
    "\n",
    "\n",
    "\n"
   ]
  },
  {
   "cell_type": "markdown",
   "metadata": {},
   "source": [
    "count the number of odd and ever numbers in the list and print the odd numbers count & even numbers count along with the numbers.\n"
   ]
  },
  {
   "cell_type": "code",
   "execution_count": null,
   "metadata": {},
   "outputs": [],
   "source": [
    " \n",
    "def countOdds():\n",
    "    count = 0 \n",
    "    for item in list :\n",
    "        if item % 2!= 0 :\n",
    "            count = count + 1 \n",
    "    return count \n",
    "input =  ( 'enter the list of numbers')\n",
    "list = input.strip().split(',')\n",
    "count = countOdds(list)\n",
    "print(\"count :\", count )\n",
    "\n",
    "\n",
    "\n",
    "\n"
   ]
  },
  {
   "cell_type": "code",
   "execution_count": 8,
   "metadata": {},
   "outputs": [],
   "source": [
    "file = open(\"sample.txt\",\"w+\")"
   ]
  },
  {
   "cell_type": "code",
   "execution_count": 9,
   "metadata": {},
   "outputs": [
    {
     "data": {
      "text/plain": [
       "28"
      ]
     },
     "execution_count": 9,
     "metadata": {},
     "output_type": "execute_result"
    }
   ],
   "source": [
    "file.write(\"this is my first python file\")"
   ]
  },
  {
   "cell_type": "code",
   "execution_count": 13,
   "metadata": {},
   "outputs": [
    {
     "name": "stdout",
     "output_type": "stream",
     "text": [
      "Aman\n"
     ]
    }
   ],
   "source": [
    "f = open(\"sample.txt\" , \"w\")\n",
    "\n",
    "f.write(\"Aman\")\n",
    "\n",
    "f.close()\n",
    "\n",
    "z = open(\"sample.txt\",\"r\")\n",
    "print(z.read())"
   ]
  },
  {
   "cell_type": "code",
   "execution_count": null,
   "metadata": {},
   "outputs": [],
   "source": []
  },
  {
   "cell_type": "code",
   "execution_count": 20,
   "metadata": {},
   "outputs": [
    {
     "name": "stdout",
     "output_type": "stream",
     "text": [
      "Trina\n"
     ]
    }
   ],
   "source": [
    "f= open(\"sample.txt\", \"w\")\n",
    "f.write(\"Trina\")\n",
    "f.close()\n",
    "z= open (\"sample.txt\",\"r\")\n",
    "print(z.read())\n"
   ]
  },
  {
   "cell_type": "markdown",
   "metadata": {},
   "source": [
    "in pytrhon that accept your details and save it into the file with your name "
   ]
  },
  {
   "cell_type": "code",
   "execution_count": 6,
   "metadata": {},
   "outputs": [],
   "source": [
    "def saveDetails(file_name,email,phone):\n",
    "    with open (file_name +\".txt\",\"w+\") as file:\n",
    "        file.write(f\"my name is TRINA and my {email} and my {phone}\")\n",
    "        \n",
    "        \n",
    "saveDetails(\"sample\",\"trina@1245\",\"562368326\")"
   ]
  },
  {
   "cell_type": "markdown",
   "metadata": {},
   "source": [
    "take two operands and an operator and performs the calculation and give the result also solve the calculation that your program performs in a file "
   ]
  },
  {
   "cell_type": "code",
   "execution_count": null,
   "metadata": {},
   "outputs": [],
   "source": [
    "def get_insight(file_name):\n",
    "    with open(file_name + \".txt\", \"r\") as file:\n",
    "        print(file.read())\n",
    "\n",
    "\n",
    "def to_order(name, price, phone_number, qty, total_guest, date, file_name):\n",
    "    with open(file_name + \".txt\", \"a+\") as file:\n",
    "        total_order = 0\n",
    "        total_price_order = price * qty\n",
    "\n",
    "        file.write(f\"Total Order Till Date: {total_order}\")\n",
    "        file.write(f\"\\nName: {name}\")\n",
    "        file.write(f\"\\nPhone Number: {phone_number}\")\n",
    "        file.write(f\"\\nFood Price: {price}\")\n",
    "        file.write(f\"\\nTotal qty: {qty}\")\n",
    "        file.write(f\"\\nTotal Guest: {total_guest}\")\n",
    "        file.write(f\"\\nDate: {date}\")\n",
    "        file.write(\"\\n---------------------------------\")\n",
    "        file.write(f\"Total price For This Order: {total_price_order}\")\n",
    "        file.write(\"---------------------------------\")\n",
    "\n",
    "\n",
    "name = input(\"Customer Name: \")\n",
    "price = int(input(\"Food Price: \"))\n",
    "phone_number = int(input(\"Customer Phone Number: \"))\n",
    "qty = int(input(\"Quantity: \"))\n",
    "guest = int(input(\"Total Guest: \"))\n",
    "date = input(\"Date of the order: \")\n",
    "\n",
    "to_order(name, price, phone_number, qty, guest, date, \"order\")"
   ]
  },
  {
   "cell_type": "code",
   "execution_count": 1,
   "metadata": {},
   "outputs": [
    {
     "name": "stdout",
     "output_type": "stream",
     "text": [
      "0 0\n",
      "1 1\n",
      "2 4\n",
      "3 9\n",
      "4 16\n",
      "5 25\n",
      "6 36\n"
     ]
    }
   ],
   "source": [
    "a = 0 \n",
    "while a<7:\n",
    "    res  = a*a\n",
    "    print(a,res)\n",
    "    a=a+1\n",
    "    \n",
    "\n"
   ]
  },
  {
   "cell_type": "code",
   "execution_count": 3,
   "metadata": {},
   "outputs": [
    {
     "name": "stdout",
     "output_type": "stream",
     "text": [
      "1\n",
      "2\n",
      "3\n",
      "4\n",
      "5\n",
      "6\n",
      "8\n",
      "9\n"
     ]
    }
   ],
   "source": [
    "for i in range (1,10,1):\n",
    "  if i ==7:   # i is called the loop controll variable \n",
    "    #break\n",
    "    continue  \n",
    "  print(i)\n"
   ]
  },
  {
   "cell_type": "code",
   "execution_count": 6,
   "metadata": {},
   "outputs": [
    {
     "name": "stdout",
     "output_type": "stream",
     "text": [
      "['abc', 'abc', 'cdf', 'edf']\n",
      "{'edf', 'cdf', 'abc'}\n",
      "['edf', 'cdf', 'abc']\n",
      "<class 'list'>\n"
     ]
    }
   ],
   "source": [
    "list_ex = ['abc','abc','cdf','edf']\n",
    "set_ex= set (list_ex)\n",
    "back = list (set_ex)\n",
    "print (list_ex)\n",
    "print(set_ex)\n",
    "print(back)\n",
    "print(type(list_ex))"
   ]
  },
  {
   "cell_type": "code",
   "execution_count": 7,
   "metadata": {},
   "outputs": [
    {
     "name": "stdout",
     "output_type": "stream",
     "text": [
      "\n"
     ]
    }
   ],
   "source": [
    "#create a list names that are random and repeating from user identify the unique items and their count\n",
    "names =[] \n",
    "for i in range (0,10,1):\n",
    "    name = input (\"enter the name\")\n",
    "    name = name.upper()\n",
    "    names.append(name)\n",
    "print (name)\n",
    "unique_names=set(names)\n",
    "print(unique_names)\n",
    "for search in unique_names:\n",
    "    #search =\n",
    "    count = 0 \n",
    "    for item in names :\n",
    "        if search ==item :\n",
    "            print((found))\n",
    "    count = count +1\n",
    "    print(search.count)\n",
    "\n",
    "\n"
   ]
  },
  {
   "cell_type": "code",
   "execution_count": 11,
   "metadata": {},
   "outputs": [],
   "source": [
    "my_dict = {\n",
    "    \"name\":\"Debamala Das Adhikri\" ,\n",
    "    \"phone\":\"8972782676\",\n",
    "    \"email\": \"deba@gmail.com\",\n",
    "}"
   ]
  },
  {
   "cell_type": "code",
   "execution_count": 12,
   "metadata": {},
   "outputs": [
    {
     "name": "stdout",
     "output_type": "stream",
     "text": [
      "{'name': 'Debamala Das Adhikri', 'phone': '8972782676', 'email': 'deba@gmail.com'}\n"
     ]
    }
   ],
   "source": [
    "print(my_dict) "
   ]
  },
  {
   "cell_type": "code",
   "execution_count": 18,
   "metadata": {},
   "outputs": [
    {
     "name": "stdout",
     "output_type": "stream",
     "text": [
      "dict_keys(['name', 'phone', 'email'])\n",
      "name\n",
      "phone\n",
      "email\n"
     ]
    }
   ],
   "source": [
    "print(my_dict.keys())\n",
    "for key in my_dict.keys():\n",
    "    print(key)\n"
   ]
  },
  {
   "cell_type": "code",
   "execution_count": 22,
   "metadata": {},
   "outputs": [
    {
     "name": "stdout",
     "output_type": "stream",
     "text": [
      "t\n",
      "d\n",
      "e\n",
      "f\n"
     ]
    }
   ],
   "source": [
    "students = {\n",
    "    \"names\" :[\"t\",\"d\",\"e\",\"f\"],\n",
    "    \"real_numbers\":[1,2,3,4,5],\n",
    "\n",
    "}\n",
    "for names in students [\"names\"]:\n",
    "    print(names)"
   ]
  },
  {
   "cell_type": "code",
   "execution_count": null,
   "metadata": {},
   "outputs": [],
   "source": [
    "\n",
    "\n"
   ]
  },
  {
   "cell_type": "code",
   "execution_count": null,
   "metadata": {},
   "outputs": [],
   "source": [
    "class sportMart:\n",
    "    def __init__(self):\n",
    "        self.inventory = []\n",
    "        self.orders = []\n",
    "\n",
    "    def create_order(self, orderid, itemname, quantity, price, total):\n",
    "        temp = {\n",
    "            \"orderid\": int(orderid),\n",
    "            \"itemname\": itemname,\n",
    "            \"quantity\": int(quantity),\n",
    "            \"price\": float(price),\n",
    "            \"total\": float(total)\n",
    "        }\n",
    "        self.orders.append(temp)\n",
    "\n",
    "    def printorders(self):\n",
    "        for order in self.orders:\n",
    "            print(order)\n",
    "\n",
    "    def printinventory(self):\n",
    "        for item in self.inventory:\n",
    "            print(item)\n",
    "\n",
    "\n",
    "trinity = sportMart()\n",
    "orders_file = open(\"ORDER.csv\", \"r\")\n",
    "orders_header = orders_file.readline()\n",
    "orders_whole = orders_file.readlines()\n",
    "\n",
    "for order_line in orders_whole:\n",
    "    temp = order_line.strip().split(\",\")\n",
    "    trinity.create_order(*temp)\n",
    "\n",
    "trinity.printorders()\n",
    "orders_file.close()"
   ]
  }
 ],
 "metadata": {
  "kernelspec": {
   "display_name": "Python 3",
   "language": "python",
   "name": "python3"
  },
  "language_info": {
   "codemirror_mode": {
    "name": "ipython",
    "version": 3
   },
   "file_extension": ".py",
   "mimetype": "text/x-python",
   "name": "python",
   "nbconvert_exporter": "python",
   "pygments_lexer": "ipython3",
   "version": "3.11.5"
  },
  "orig_nbformat": 4
 },
 "nbformat": 4,
 "nbformat_minor": 2
}
