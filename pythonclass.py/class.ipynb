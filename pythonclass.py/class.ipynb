{
 "cells": [
  {
   "cell_type": "code",
   "execution_count": null,
   "metadata": {},
   "outputs": [],
   "source": [
    "#resturant\n",
    "#customer\n"
   ]
  },
  {
   "cell_type": "code",
   "execution_count": null,
   "metadata": {},
   "outputs": [],
   "source": [
    "class resturant:\n",
    "    def __init__(self):\n",
    "        pass \n",
    "        self.menue = {\n",
    "            \"rice\":30,\n",
    "            \"idli\":10\n",
    "         }\n",
    "        self.order={}"
   ]
  }
 ],
 "metadata": {
  "language_info": {
   "name": "python"
  },
  "orig_nbformat": 4
 },
 "nbformat": 4,
 "nbformat_minor": 2
}
