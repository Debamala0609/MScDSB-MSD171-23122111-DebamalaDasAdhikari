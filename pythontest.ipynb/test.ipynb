{
 "cells": [
  {
   "cell_type": "code",
   "execution_count": 1,
   "metadata": {},
   "outputs": [
    {
     "name": "stdout",
     "output_type": "stream",
     "text": [
      "1\n",
      "2\n",
      "3\n",
      "4\n",
      "5\n",
      "6\n",
      "7\n",
      "8\n",
      "9\n",
      "10\n"
     ]
    }
   ],
   "source": [
    "number = 1 \n",
    "\n",
    "# Use a while loop to print numbers from 1 to 10\n",
    "while number <= 10:\n",
    "    print(number)\n",
    "    number += 1\n"
   ]
  },
  {
   "cell_type": "code",
   "execution_count": 2,
   "metadata": {},
   "outputs": [
    {
     "name": "stdout",
     "output_type": "stream",
     "text": [
      "The sum of 1 to 100 number is: 5050\n"
     ]
    }
   ],
   "source": [
    "total_sum = 0\n",
    "\n",
    "# Use a for loop to iterate through numbers from 1 to 100\n",
    "for number in range(1, 101):\n",
    "    total_sum += number\n",
    "\n",
    "# Print the sum\n",
    "print(\"The sum of 1 to 100 number is:\", total_sum)"
   ]
  },
  {
   "cell_type": "code",
   "execution_count": 3,
   "metadata": {},
   "outputs": [
    {
     "name": "stdout",
     "output_type": "stream",
     "text": [
      "Student Grades:\n",
      "Alice: 97\n",
      "Bob: 69\n",
      "Carol: 37\n"
     ]
    }
   ],
   "source": [
    "import random\n",
    "\n",
    "# Creating grade dictionary \n",
    "student_grades = {}\n",
    "\n",
    "# Generating random grades for Alice, Bob, and Carol\n",
    "student_grades[\"Alice\"] = random.randint(0, 100)\n",
    "student_grades[\"Bob\"] = random.randint(0, 100)\n",
    "student_grades[\"Carol\"] = random.randint(0, 100)\n",
    "print(\"Student Grades:\")\n",
    "for student, grade in student_grades.items():\n",
    "    print(f\"{student}: {grade}\")\n"
   ]
  },
  {
   "cell_type": "code",
   "execution_count": 5,
   "metadata": {},
   "outputs": [
    {
     "name": "stdout",
     "output_type": "stream",
     "text": [
      "Even numbers: [2, 4, 6, 8, 10]\n"
     ]
    }
   ],
   "source": [
    "def even_numbers(list):\n",
    "    even_numbers = [num for num in list if num % 2 == 0]\n",
    "    return even_numbers\n",
    "list = [1, 2, 3, 4, 5, 6, 7, 8, 9, 10]\n",
    "even_numbers_list = even_numbers(list)\n",
    "print(\"Even numbers:\", even_numbers_list)\n"
   ]
  }
 ],
 "metadata": {
  "kernelspec": {
   "display_name": "Python 3",
   "language": "python",
   "name": "python3"
  },
  "language_info": {
   "codemirror_mode": {
    "name": "ipython",
    "version": 3
   },
   "file_extension": ".py",
   "mimetype": "text/x-python",
   "name": "python",
   "nbconvert_exporter": "python",
   "pygments_lexer": "ipython3",
   "version": "3.11.5"
  },
  "orig_nbformat": 4
 },
 "nbformat": 4,
 "nbformat_minor": 2
}
