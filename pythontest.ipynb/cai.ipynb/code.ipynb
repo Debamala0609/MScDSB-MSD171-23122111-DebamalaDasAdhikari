{
 "cells": [
  {
   "cell_type": "code",
   "execution_count": 2,
   "metadata": {},
   "outputs": [
    {
     "name": "stdout",
     "output_type": "stream",
     "text": [
      "Recipe Finder\n",
      "\n",
      "No recipes found with the provided ingredients.\n"
     ]
    }
   ],
   "source": [
    "def find_recipes(ingredients):\n",
    "    recipes = [\n",
    "        {\n",
    "            \"name\": \"Lemon Juice\",\n",
    "            \"instructions\": \"Cut lemons in a circular shape. Squeeze lemon, Add water or soda, then mix with salt and sugar\",\n",
    "            \"ingredients\": [\"lemon\", \"Salt\", \"Sugar\", \"Soda\"]\n",
    "        },\n",
    "        {\n",
    "            \"name\": \"Bread Omelette\",\n",
    "            \"instructions\": \"Spread ghee on the bread, then roast the bread. Mix egg with chili, onion, and salt, then fry the egg and bread\",\n",
    "            \"ingredients\": [\"Bread\", \"Egg\", \"Ghee\", \"Chili\", \"Onion\", \"Oil\", \"Salt\"]\n",
    "        },\n",
    "        {\n",
    "            \"name\": \"Fried Rice\",\n",
    "            \"instructions\": \"Boil the rice with spices and ghee, prepare the vegetables, then mix the vegetables and rice\",\n",
    "            \"ingredients\": [\"Basmati Rice\", \"Beans\", \"Carrot\", \"Pepper\", \"Ghee\", \"Onion\"]\n",
    "        },\n",
    "        {\n",
    "            \"name\": \"Chicken Roast\",\n",
    "            \"instructions\": \"Marinate chicken with masala and curd, then cut onion. Heat a pan, put oil, then fry onion with masala mix. Put marinated chicken, then wait for it to be ready\",\n",
    "            \"ingredients\": [\"Chicken\", \"Chilli powder\", \"Turmeric powder\", \"Ginger\", \"Garlic\", \"Salt\", \"Curd\", \"Onion\", \"Masala powder\"]\n",
    "        },\n",
    "    ]\n",
    "    check_recipes = []\n",
    "    for recipe in recipes:\n",
    "        if all(ingredient in recipe['ingredients'] for ingredient in ingredients):\n",
    "            check_recipes.append(recipe)\n",
    "\n",
    "    return check_recipes\n",
    "\n",
    "if __name__ == \"__main__\":\n",
    "    print(\"Recipe Finder\")\n",
    "    user_input = input(\"Enter ingredients you have (comma-separated): \")\n",
    "    ingredients = [ingredient.strip() for ingredient in user_input.split(',')]\n",
    "    check_recipes = find_recipes(ingredients)\n",
    "\n",
    "    if check_recipes:\n",
    "        print(\"\\nRecipes you can make with the ingredients:\")\n",
    "        for recipe in check_recipes:\n",
    "            print(\"\\nRecipe:\", recipe[\"name\"])\n",
    "            print(\"Instructions:\", recipe[\"instructions\"])\n",
    "    else:\n",
    "        print(\"\\nNo recipes found with the provided ingredients.\")"
   ]
  }
 ],
 "metadata": {
  "kernelspec": {
   "display_name": "Python 3",
   "language": "python",
   "name": "python3"
  },
  "language_info": {
   "codemirror_mode": {
    "name": "ipython",
    "version": 3
   },
   "file_extension": ".py",
   "mimetype": "text/x-python",
   "name": "python",
   "nbconvert_exporter": "python",
   "pygments_lexer": "ipython3",
   "version": "3.11.5"
  },
  "orig_nbformat": 4
 },
 "nbformat": 4,
 "nbformat_minor": 2
}
